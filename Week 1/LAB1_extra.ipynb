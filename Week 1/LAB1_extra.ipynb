{
  "nbformat": 4,
  "nbformat_minor": 0,
  "metadata": {
    "colab": {
      "provenance": []
    },
    "kernelspec": {
      "name": "python3",
      "display_name": "Python 3"
    },
    "language_info": {
      "name": "python"
    }
  },
  "cells": [
    {
      "cell_type": "code",
      "execution_count": null,
      "metadata": {
        "id": "NI-J-iDNHhw8"
      },
      "outputs": [],
      "source": [
        "array = ['python', 'PHP', 'java', 'C++']"
      ]
    },
    {
      "cell_type": "code",
      "source": [
        "for x in array:\n",
        "  a = x.capitalize()\n",
        "  print(a)"
      ],
      "metadata": {
        "colab": {
          "base_uri": "https://localhost:8080/"
        },
        "id": "SkWc04W8HpWF",
        "outputId": "0a4799f0-6c14-47e2-a0b1-35d24e136605"
      },
      "execution_count": null,
      "outputs": [
        {
          "output_type": "stream",
          "name": "stdout",
          "text": [
            "Python\n",
            "Php\n",
            "Java\n",
            "C++\n"
          ]
        }
      ]
    },
    {
      "cell_type": "code",
      "source": [
        "for x in array:\n",
        "  a = x.lower()\n",
        "  print(a)"
      ],
      "metadata": {
        "colab": {
          "base_uri": "https://localhost:8080/"
        },
        "id": "15kGWHHfKDUA",
        "outputId": "a68933fb-f849-4945-8b62-d004933b2469"
      },
      "execution_count": null,
      "outputs": [
        {
          "output_type": "stream",
          "name": "stdout",
          "text": [
            "python\n",
            "php\n",
            "java\n",
            "c++\n"
          ]
        }
      ]
    },
    {
      "cell_type": "code",
      "source": [
        "for x in array:\n",
        "  a = x.upper()\n",
        "  print(a)"
      ],
      "metadata": {
        "colab": {
          "base_uri": "https://localhost:8080/"
        },
        "id": "CnhpyaIjKQPf",
        "outputId": "8e729cf9-a14c-4573-8075-e870b99f028f"
      },
      "execution_count": null,
      "outputs": [
        {
          "output_type": "stream",
          "name": "stdout",
          "text": [
            "PYTHON\n",
            "PHP\n",
            "JAVA\n",
            "C++\n"
          ]
        }
      ]
    },
    {
      "cell_type": "code",
      "source": [
        "for x in array:\n",
        "  a = x.swapcase()\n",
        "  print(a)"
      ],
      "metadata": {
        "colab": {
          "base_uri": "https://localhost:8080/"
        },
        "id": "sVzKVJFSKZgp",
        "outputId": "3208f4ec-0415-4759-b07f-08cb4a1ed54f"
      },
      "execution_count": null,
      "outputs": [
        {
          "output_type": "stream",
          "name": "stdout",
          "text": [
            "PYTHON\n",
            "php\n",
            "JAVA\n",
            "c++\n"
          ]
        }
      ]
    },
    {
      "cell_type": "code",
      "source": [
        "for x in array:\n",
        "  a = x.title()\n",
        "  print(a)"
      ],
      "metadata": {
        "colab": {
          "base_uri": "https://localhost:8080/"
        },
        "id": "W52xAUf4KerI",
        "outputId": "eea35dca-35c4-4a05-85b6-295262923a65"
      },
      "execution_count": null,
      "outputs": [
        {
          "output_type": "stream",
          "name": "stdout",
          "text": [
            "Python\n",
            "Php\n",
            "Java\n",
            "C++\n"
          ]
        }
      ]
    },
    {
      "cell_type": "code",
      "source": [
        "import numpy as np\n",
        "arr = [('James', 5, 48.5),('Nail', 6, 52.5),('Paul',5,62.7),('Pit', 5, 40.11)]\n",
        "\n",
        "\n",
        "dtype = [('name', 'S10'), ('age', int),  ('height', float)]\n",
        "values = [('James', 5, 48.5),('Nail', 6, 52.5),('Paul',5,62.7),('Pit', 5, 40.11)]\n",
        "a = np.array(values, dtype=dtype)\n",
        "\n",
        "b = np.sort(a, order='height')\n",
        "b"
      ],
      "metadata": {
        "colab": {
          "base_uri": "https://localhost:8080/"
        },
        "id": "WOiDQj-KKo-m",
        "outputId": "3f5cdf45-8f79-4c40-f4c9-491f55815778"
      },
      "execution_count": null,
      "outputs": [
        {
          "output_type": "execute_result",
          "data": {
            "text/plain": [
              "array([(b'Pit', 5, 40.11), (b'James', 5, 48.5 ), (b'Nail', 6, 52.5 ),\n",
              "       (b'Paul', 5, 62.7 )],\n",
              "      dtype=[('name', 'S10'), ('age', '<i8'), ('height', '<f8')])"
            ]
          },
          "metadata": {},
          "execution_count": 21
        }
      ]
    }
  ]
}